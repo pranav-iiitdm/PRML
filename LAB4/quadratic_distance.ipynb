{
 "cells": [
  {
   "cell_type": "code",
   "execution_count": 9,
   "id": "97da1974",
   "metadata": {},
   "outputs": [],
   "source": [
    "import numpy as np"
   ]
  },
  {
   "cell_type": "code",
   "execution_count": 10,
   "id": "0a10e292",
   "metadata": {},
   "outputs": [],
   "source": [
    "zT = np.array([0.5, 0.5, -0.5, -0.25, -0.25])\n",
    "# zT = (x-y)^T\n",
    "z = np.transpose(zT)\n",
    "\n",
    "A = np.array([[1, 0.135, 0.195, 0.137, 0.157],\n",
    "              [0.135, 1, 0.2, 0.309, 0.143],\n",
    "              [0.195, 0.2, 1, 0.157, 0.122],\n",
    "              [0.137, 0.309, 0.157, 1, 0.195],\n",
    "              [0.157, 0.143, 0.122, 0.195, 1]])"
   ]
  },
  {
   "cell_type": "code",
   "execution_count": 11,
   "id": "e337b113",
   "metadata": {},
   "outputs": [
    {
     "name": "stdout",
     "output_type": "stream",
     "text": [
      "0.8078520904224981\n"
     ]
    }
   ],
   "source": [
    "quadratic_dist = np.sqrt(np.dot(np.dot(zT, A), z))\n",
    "print(quadratic_dist)"
   ]
  }
 ],
 "metadata": {
  "kernelspec": {
   "display_name": "Python 3 (ipykernel)",
   "language": "python",
   "name": "python3"
  },
  "language_info": {
   "codemirror_mode": {
    "name": "ipython",
    "version": 3
   },
   "file_extension": ".py",
   "mimetype": "text/x-python",
   "name": "python",
   "nbconvert_exporter": "python",
   "pygments_lexer": "ipython3",
   "version": "3.9.12"
  }
 },
 "nbformat": 4,
 "nbformat_minor": 5
}
