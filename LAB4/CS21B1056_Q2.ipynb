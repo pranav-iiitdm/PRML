{
 "cells": [
  {
   "cell_type": "code",
   "execution_count": 7,
   "id": "d506c6d3",
   "metadata": {},
   "outputs": [],
   "source": [
    "# pip install opencv-python"
   ]
  },
  {
   "cell_type": "code",
   "execution_count": 8,
   "id": "06eb1898",
   "metadata": {
    "scrolled": false
   },
   "outputs": [],
   "source": [
    "import cv2\n",
    "import numpy as np\n",
    "import matplotlib.pyplot as plt"
   ]
  },
  {
   "cell_type": "code",
   "execution_count": 9,
   "id": "bca71d3f",
   "metadata": {},
   "outputs": [
    {
     "name": "stdout",
     "output_type": "stream",
     "text": [
      "Bhattacharya Distance between Query image and Reference-1 image is :  0.9139254545938104\n",
      "Bhattacharya Distance between Query image and Reference-2 image is :  0.99651403900724\n"
     ]
    }
   ],
   "source": [
    "query_img = cv2.imread('queryimage.png')\n",
    "ref_img1 = cv2.imread('refimage1.png')\n",
    "ref_img2 = cv2.imread('refimage2.png')\n",
    "\n",
    "query_img = cv2.cvtColor(query_img, cv2.COLOR_BGR2RGB)\n",
    "ref_img1 = cv2.cvtColor(ref_img1, cv2.COLOR_BGR2RGB)\n",
    "ref_img2 = cv2.cvtColor(ref_img2, cv2.COLOR_BGR2RGB)\n",
    "\n",
    "query_img_hist = cv2.calcHist([query_img], [0, 1, 2], None, [256, 256, 256], [0, 256 , 0, 256, 0, 256])\n",
    "ref_img1_hist = cv2.calcHist([ref_img1], [0, 1, 2], None, [256, 256, 256], [0, 256, 0, 256, 0, 256])\n",
    "ref_img2_hist = cv2.calcHist([ref_img2], [0, 1, 2], None, [256, 256, 256], [0, 256, 0, 256, 0, 256])\n",
    "\n",
    "query_hist_norm = cv2.normalize(query_img_hist, query_img_hist).flatten()\n",
    "ref1_hist_norm = cv2.normalize(ref_img1_hist, ref_img1_hist).flatten()\n",
    "ref2_hist_norm = cv2.normalize(ref_img2_hist, ref_img2_hist).flatten()\n",
    "\n",
    "dist1 = cv2.compareHist(query_hist_norm, ref1_hist_norm, cv2.HISTCMP_BHATTACHARYYA)\n",
    "dist2 = cv2.compareHist(query_hist_norm, ref2_hist_norm, cv2.HISTCMP_BHATTACHARYYA)\n",
    "\n",
    "print('Bhattacharya Distance between Query image and Reference-1 image is : ', dist1)\n",
    "print('Bhattacharya Distance between Query image and Reference-2 image is : ', dist2)"
   ]
  },
  {
   "cell_type": "code",
   "execution_count": null,
   "id": "b7745037",
   "metadata": {},
   "outputs": [],
   "source": []
  }
 ],
 "metadata": {
  "kernelspec": {
   "display_name": "Python 3 (ipykernel)",
   "language": "python",
   "name": "python3"
  },
  "language_info": {
   "codemirror_mode": {
    "name": "ipython",
    "version": 3
   },
   "file_extension": ".py",
   "mimetype": "text/x-python",
   "name": "python",
   "nbconvert_exporter": "python",
   "pygments_lexer": "ipython3",
   "version": "3.9.12"
  }
 },
 "nbformat": 4,
 "nbformat_minor": 5
}
