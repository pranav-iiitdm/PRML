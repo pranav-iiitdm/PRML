{
 "cells": [
  {
   "cell_type": "code",
   "execution_count": 1,
   "id": "5491271b",
   "metadata": {},
   "outputs": [],
   "source": [
    "import pandas as pd\n",
    "import numpy as np\n",
    "import random"
   ]
  },
  {
   "cell_type": "code",
   "execution_count": 2,
   "id": "aae4bcb1",
   "metadata": {},
   "outputs": [],
   "source": [
    "dataset = pd.read_csv('iris.csv')"
   ]
  },
  {
   "cell_type": "code",
   "execution_count": 3,
   "id": "4a745804",
   "metadata": {
    "scrolled": true
   },
   "outputs": [
    {
     "data": {
      "text/html": [
       "<div>\n",
       "<style scoped>\n",
       "    .dataframe tbody tr th:only-of-type {\n",
       "        vertical-align: middle;\n",
       "    }\n",
       "\n",
       "    .dataframe tbody tr th {\n",
       "        vertical-align: top;\n",
       "    }\n",
       "\n",
       "    .dataframe thead th {\n",
       "        text-align: right;\n",
       "    }\n",
       "</style>\n",
       "<table border=\"1\" class=\"dataframe\">\n",
       "  <thead>\n",
       "    <tr style=\"text-align: right;\">\n",
       "      <th></th>\n",
       "      <th>SepalLengthCm</th>\n",
       "      <th>SepalWidthCm</th>\n",
       "      <th>PetalLengthCm</th>\n",
       "      <th>PetalWidthCm</th>\n",
       "    </tr>\n",
       "  </thead>\n",
       "  <tbody>\n",
       "    <tr>\n",
       "      <th>11</th>\n",
       "      <td>4.8</td>\n",
       "      <td>3.4</td>\n",
       "      <td>1.6</td>\n",
       "      <td>0.2</td>\n",
       "    </tr>\n",
       "    <tr>\n",
       "      <th>85</th>\n",
       "      <td>6.0</td>\n",
       "      <td>3.4</td>\n",
       "      <td>4.5</td>\n",
       "      <td>1.6</td>\n",
       "    </tr>\n",
       "    <tr>\n",
       "      <th>132</th>\n",
       "      <td>6.4</td>\n",
       "      <td>2.8</td>\n",
       "      <td>5.6</td>\n",
       "      <td>2.2</td>\n",
       "    </tr>\n",
       "  </tbody>\n",
       "</table>\n",
       "</div>"
      ],
      "text/plain": [
       "     SepalLengthCm  SepalWidthCm  PetalLengthCm  PetalWidthCm\n",
       "11             4.8           3.4            1.6           0.2\n",
       "85             6.0           3.4            4.5           1.6\n",
       "132            6.4           2.8            5.6           2.2"
      ]
     },
     "execution_count": 3,
     "metadata": {},
     "output_type": "execute_result"
    }
   ],
   "source": [
    "features=[\"SepalLengthCm\", \"SepalWidthCm\", \"PetalLengthCm\", \"PetalWidthCm\", \"Species\"]\n",
    "\n",
    "test_indices = []\n",
    "test_indices.append(random.randint(0, 49))\n",
    "test_indices.append(random.randint(50, 99))\n",
    "test_indices.append(random.randint(100, 149))\n",
    "\n",
    "# print(test_indices)\n",
    "\n",
    "train_indices = []\n",
    "for i in range(0, 150):\n",
    "    if i not in test_indices:\n",
    "        train_indices.append(i)\n",
    "        \n",
    "test = dataset.loc[test_indices].drop(columns=[\"Id\", \"Species\"])\n",
    "\n",
    "train = dataset.loc[train_indices].drop(columns=[\"Id\"])\n",
    "test"
   ]
  },
  {
   "cell_type": "code",
   "execution_count": 4,
   "id": "1256d13c",
   "metadata": {},
   "outputs": [
    {
     "name": "stdout",
     "output_type": "stream",
     "text": [
      "Actual Class : 'Iris-setosa' \t\t Predicted Class : Iris-setosa\n",
      "Actual Class : 'Iris-versicolor' \t Predicted Class : Iris-versicolor\n",
      "Actual Class : 'Iris-virginica' \t Predicted Class : Iris-virginica\n",
      "Mahalanobis Distance : \n",
      "Test Point 1 : [[0, 1.4690832755297831], [1, 9.927139567979395], [2, 12.436318019963709]]\n",
      "Test Point 1 : [[0, 19.63674551929401], [1, 2.540088990888819], [2, 3.8211462252951676]]\n",
      "Test Point 1 : [[0, 27.77109675774569], [1, 5.844301612271367], [2, 1.361077642861038]]\n"
     ]
    }
   ],
   "source": [
    "# Calculating Mean vector for each class\n",
    "\n",
    "#----------------------- Splitting train dataset according to the classes ----------------------------------------------\n",
    "\n",
    "num = list(train.columns[0:4])\n",
    "\n",
    "train_setosa = train[train['Species'] == 'Iris-setosa'][num]\n",
    "# train_setosa\n",
    "train_versicolor = train[train['Species'] == 'Iris-versicolor'][num]\n",
    "# train_versicolor\n",
    "train_virginica = train[train['Species'] == 'Iris-virginica'][num]\n",
    "# train_virginica\n",
    "\n",
    "#----------------------- Finding the mean vector for each class ---------------------------------------------------------\n",
    "\n",
    "mean_setosa = list(train_setosa.mean())\n",
    "# print(mean_setosa)\n",
    "mean_versicolor = list(train_versicolor.mean())\n",
    "mean_virginica = list(train_virginica.mean())\n",
    "\n",
    "#----------------------- Finding the covariance matrix for each class ---------------------------------------------------\n",
    "\n",
    "diff = train_setosa - mean_setosa\n",
    "cov_setosa = np.dot(np.array(diff.T), np.array(diff)) / (train_setosa.shape[0] - 1)\n",
    "\n",
    "diff1 = train_versicolor - mean_versicolor\n",
    "cov_versicolor = np.dot(np.array(diff1.T), np.array(diff1)) / (train_versicolor.shape[0] - 1)\n",
    "\n",
    "diff2 = train_virginica - mean_virginica\n",
    "cov_virginica = np.dot(np.array(diff2.T), np.array(diff2)) / (train_virginica.shape[0] - 1)\n",
    "\n",
    "means = [mean_setosa, mean_versicolor, mean_virginica]\n",
    "covar_mat = [cov_setosa, cov_versicolor, cov_virginica]\n",
    "\n",
    "#---------------------- Calculating Mahalanobis distance -----------------------------------------------------------------\n",
    "\n",
    "dist = []\n",
    "\n",
    "l = {0 : 0,\n",
    "     1 : 51,                       # Dictionary for mapping the covar_mat, means indices to the actual classes\n",
    "     2 : 102}\n",
    "\n",
    "for i in range(test.shape[0]):\n",
    "    x = []\n",
    "    for j in range(3):\n",
    "        mat1 = np.transpose(test.iloc[i] - means[j])\n",
    "        mat2 = np.asarray(test.iloc[i] - means[j])\n",
    "        mat3 = np.linalg.inv(covar_mat[j])\n",
    "        res = np.sqrt(np.matmul(np.matmul(mat1, mat3), mat2))\n",
    "        x.append([j, res])\n",
    "    dist.append(x)\n",
    "    z = sorted(x, key = lambda k : k[1])\n",
    "    y = z[0][0]\n",
    "    \n",
    "    if i == 0:\n",
    "        print(f\"Actual Class : 'Iris-setosa' \\t\\t Predicted Class : {train['Species'][l[y]]}\")\n",
    "    if i == 1:\n",
    "        print(f\"Actual Class : 'Iris-versicolor' \\t Predicted Class : {train['Species'][l[y]]}\")\n",
    "    if i == 2:\n",
    "        print(f\"Actual Class : 'Iris-virginica' \\t Predicted Class : {train['Species'][l[y]]}\")      \n",
    "        \n",
    "print('Mahalanobis Distance : ')\n",
    "\n",
    "for i in range(3):\n",
    "    print(f\"Test Point 1 : {dist[i]}\")"
   ]
  },
  {
   "cell_type": "code",
   "execution_count": null,
   "id": "1ff4ac5c",
   "metadata": {},
   "outputs": [],
   "source": []
  }
 ],
 "metadata": {
  "kernelspec": {
   "display_name": "Python 3 (ipykernel)",
   "language": "python",
   "name": "python3"
  },
  "language_info": {
   "codemirror_mode": {
    "name": "ipython",
    "version": 3
   },
   "file_extension": ".py",
   "mimetype": "text/x-python",
   "name": "python",
   "nbconvert_exporter": "python",
   "pygments_lexer": "ipython3",
   "version": "3.9.12"
  }
 },
 "nbformat": 4,
 "nbformat_minor": 5
}
