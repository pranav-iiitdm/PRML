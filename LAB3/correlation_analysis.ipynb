{
 "cells": [
  {
   "cell_type": "code",
   "execution_count": 4,
   "id": "b3bc3989",
   "metadata": {},
   "outputs": [],
   "source": [
    "import numpy as np\n",
    "import seaborn as sbn\n",
    "import pandas as pd\n",
    "import matplotlib.pyplot as plt"
   ]
  },
  {
   "cell_type": "code",
   "execution_count": 5,
   "id": "601a4dd8",
   "metadata": {},
   "outputs": [],
   "source": [
    "data = {\n",
    "    \"Hours Studied\" : [2, 3, 4, 5, 6, 7],\n",
    "    \"Hours Watching TV\" : [4, 3, 2, 1, 0, 0],\n",
    "    \"Outdoor Activity\" : [2, 4, 6, 8, 10, 12],\n",
    "    \"Music Hours\" : [2, 3, 4, 1, 5, 0],\n",
    "    \"Water Consumed\" : [5, 6, 5, 6, 4, 5],\n",
    "    \"Total Score\" : [65, 70, 75, 80, 85, 90]\n",
    "}\n",
    "\n",
    "df = pd.DataFrame(data)"
   ]
  },
  {
   "cell_type": "code",
   "execution_count": 6,
   "id": "785f2d42",
   "metadata": {},
   "outputs": [
    {
     "name": "stdout",
     "output_type": "stream",
     "text": [
      "[[ 1.         -0.98198051  1.         -0.2        -0.3550358   1.        ]\n",
      " [-0.98198051  1.         -0.98198051  0.06546537  0.3796283  -0.98198051]\n",
      " [ 1.         -0.98198051  1.         -0.2        -0.3550358   1.        ]\n",
      " [-0.2         0.06546537 -0.2         1.         -0.49705012 -0.2       ]\n",
      " [-0.3550358   0.3796283  -0.3550358  -0.49705012  1.         -0.3550358 ]\n",
      " [ 1.         -0.98198051  1.         -0.2        -0.3550358   1.        ]]\n"
     ]
    }
   ],
   "source": [
    "n = df.shape[1]\n",
    "\n",
    "corr_mat = np.zeros((n, n))\n",
    "\n",
    "for i in range(n):\n",
    "    for j in range(n):\n",
    "        if i == j:\n",
    "            corr_mat[i][j] = 1\n",
    "        else:\n",
    "            mean1 = np.mean(df[df.columns[i]])\n",
    "            mean2 = np.mean(df[df.columns[j]])\n",
    "            x = df[df.columns[i]] - mean1\n",
    "            y = df[df.columns[j]] - mean2\n",
    "            \n",
    "            corr_mat[i][j] = (x*y).sum() / np.sqrt((x**2).sum() * (y**2).sum())\n",
    "            \n",
    "            \n",
    "print(corr_mat)"
   ]
  },
  {
   "cell_type": "code",
   "execution_count": 7,
   "id": "70c13a54",
   "metadata": {},
   "outputs": [
    {
     "data": {
      "image/png": "[encoded data removed]",
      "text/plain": [
       "<Figure size 432x288 with 2 Axes>"
      ]
     },
     "metadata": {
      "needs_background": "light"
     },
     "output_type": "display_data"
    }
   ],
   "source": [
    "corr = pd.DataFrame(corr_mat, columns = df.columns, index = df.columns)\n",
    "\n",
    "ht_map = sbn.heatmap(data = corr)\n",
    "plt.show()"
   ]
  },
  {
   "cell_type": "markdown",
   "id": "23f23a0e",
   "metadata": {},
   "source": [
    "Correlations w.r.t Total Score\n",
    "\n",
    "Positive Correlation:\n",
    "1)Hours Studied : 1\n",
    "2)Outdoor Activity : 1\n",
    "\n",
    "Negative Correlation:\n",
    "1)Hours Watching TV : -0.98\n",
    "\n",
    "No Significant Correlation:\n",
    "1)Music Hours : -0.2\n",
    "2)Water Consumed : 0.36\n",
    "\n",
    "--------------------------------------------------------------------------------------------------------------------------------\n",
    "\n",
    "--> A positive correlation between two variables means that as one variable increases, the other variable tends to increase as well. In the provided dataset, you have the \"Hours Studied\" variable and the \"Total Score\" variable. A positive correlation between these two variables implies that students who study more hours tend to achieve higher total scores.\n",
    "--> This positive correlation can be explained by the fact that dedicating more time to studying allows students to grasp the subject matter better, understand concepts more thoroughly, and practice problem-solving. Consequently, they are likely to perform better in exams or assessments.\n",
    "\n",
    "--------------------------------------------------------------------------------------------------------------------------------\n",
    "\n",
    "--> The negative correlation coefficient between \"Hours Watching TV\" and test scores indicates an inverse relationship between these two variables in the provided dataset. In other words, as the number of hours spent watching TV increases, the test scores tend to decrease.\n",
    "--> This implies that if the test score decreases then there is direct impact on the academic acheivement. While relaxation and leisure are important for overall well-being, excessive time spent on entertainment activities like TV watching can hinder academic progress. Achieving a healthy balance between study and leisure time is crucial for academic success.\n",
    "\n",
    "--------------------------------------------------------------------------------------------------------------------------------\n",
    "\n",
    "--> A negative correlation suggests that as one variable increases, the other tends to decrease. In this context, a weak negative correlation between \"Hours Listening to Music\" and test scores implies that students who spend more time listening to music may, on average, achieve slightly lower test scores. However, since the correlation coefficient is close to zero and quite small in magnitude (-0.2), the relationship is not particularly strong.\n",
    "--> Music can have both positive and negative effects on concentration. Some students find that listening to certain types of music helps them focus and block out distractions while studying. The negative correlation suggests that excessive music listening might slightly impact concentration in a way that influences test scores.\n",
    "\n",
    "--------------------------------------------------------------------------------------------------------------------------------\n",
    "\n",
    "--> The correlation coefficient between \"Water Consumed\" and test scores in the given dataset is approximately -0.355, indicating a moderate negative correlation between these two variables. In this case, the correlation suggests that students who consume more water tend to have slightly lower test scores, on average.\n",
    "--> Hydration plays a crucial role in maintaining optimal cognitive function. Dehydration can lead to various cognitive impairments, including difficulties in concentration, memory recall, and overall cognitive performance. Even mild dehydration can result in decreased attention span and mental alertness, which can have an impact on test-taking abilities.\n",
    "\n",
    "--------------------------------------------------------------------------------------------------------------------------------\n",
    "\n",
    "--> The correlation coefficient between \"Outdoor Activity Time\" and test scores in the provided dataset is approximately 1. This correlation coefficient indicates a perfect positive correlation between these two variables. In simpler terms, as the amount of time spent on outdoor activities increases, the test scores also increase proportionally.\n",
    "-->  Engaging in outdoor activities can lead to improved cognitive function. Physical exercise increases blood flow to the brain, promoting the delivery of oxygen and nutrients. This enhanced blood flow can lead to better focus, concentration, and information retention, which can positively impact academic performance. Outdoor activities provide opportunities to reduce stress and anxiety. Spending time outdoors offers a mental break from academic tasks, allowing the brain to rest and recharge. This can lead to improved problem-solving abilities and creativity once students return to their studies."
   ]
  }
 ],
 "metadata": {
  "kernelspec": {
   "display_name": "Python 3 (ipykernel)",
   "language": "python",
   "name": "python3"
  },
  "language_info": {
   "codemirror_mode": {
    "name": "ipython",
    "version": 3
   },
   "file_extension": ".py",
   "mimetype": "text/x-python",
   "name": "python",
   "nbconvert_exporter": "python",
   "pygments_lexer": "ipython3",
   "version": "3.9.12"
  }
 },
 "nbformat": 4,
 "nbformat_minor": 5
}
