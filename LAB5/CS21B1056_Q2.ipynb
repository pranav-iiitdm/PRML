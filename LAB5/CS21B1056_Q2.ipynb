{
 "cells": [
  {
   "cell_type": "code",
   "execution_count": 1,
   "id": "b1a07a1d",
   "metadata": {},
   "outputs": [],
   "source": [
    "import math\n",
    "from sklearn.feature_extraction.text import CountVectorizer"
   ]
  },
  {
   "cell_type": "code",
   "execution_count": 14,
   "id": "b02aee80",
   "metadata": {},
   "outputs": [
    {
     "name": "stdout",
     "output_type": "stream",
     "text": [
      "Cosine Distance :  0.7369616203114283\n"
     ]
    }
   ],
   "source": [
    "doc1 = \"MATLAB is a program for solving engineering and mathematical problems. The basic MATLAB objects are vectors and matrices, so you must be familiar with these before making extensive use of this program.\"\n",
    "doc2 = \"MATLAB works with essentially one kind of object, a rectangular numerical matrix. Here is some basic information on using MATLAB matrix commands.\"\n",
    "\n",
    "data = [doc1, doc2]\n",
    "\n",
    "vectorizer = CountVectorizer()\n",
    "\n",
    "vectorizer.fit(data)\n",
    "\n",
    "vector = vectorizer.transform(data)\n",
    "\n",
    "arr = vector.toarray()\n",
    "dot_product = 0\n",
    "magnitude_a = 0\n",
    "magnitude_b = 0\n",
    "# print(arr)\n",
    "\n",
    "for i in range(0, len(arr[0])):\n",
    "    dot_product += arr[0][i]*arr[1][i]\n",
    "    magnitude_a += arr[0][i]**2\n",
    "    magnitude_b += arr[1][i]**2\n",
    "    \n",
    "magnitude_a = math.sqrt(magnitude_a)\n",
    "magnitude_b = math.sqrt(magnitude_b)\n",
    "\n",
    "cos_theta = dot_product/(magnitude_a*magnitude_b)\n",
    "\n",
    "dist = 1 - cos_theta\n",
    "\n",
    "print('Cosine Distance : ', dist)"
   ]
  }
 ],
 "metadata": {
  "kernelspec": {
   "display_name": "Python 3 (ipykernel)",
   "language": "python",
   "name": "python3"
  },
  "language_info": {
   "codemirror_mode": {
    "name": "ipython",
    "version": 3
   },
   "file_extension": ".py",
   "mimetype": "text/x-python",
   "name": "python",
   "nbconvert_exporter": "python",
   "pygments_lexer": "ipython3",
   "version": "3.9.12"
  }
 },
 "nbformat": 4,
 "nbformat_minor": 5
}
