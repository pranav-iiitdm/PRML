{
 "cells": [
  {
   "cell_type": "code",
   "execution_count": 9,
   "id": "57c9ef59",
   "metadata": {},
   "outputs": [],
   "source": [
    "import numpy as np \n",
    "import math"
   ]
  },
  {
   "cell_type": "code",
   "execution_count": 10,
   "id": "e3c3aa10",
   "metadata": {},
   "outputs": [
    {
     "name": "stdout",
     "output_type": "stream",
     "text": [
      "8\n"
     ]
    }
   ],
   "source": [
    "H1 = [ 0.24, 0.2, 0.16, 0.12, 0.08, 0.04, 0.12, 0.04]\n",
    "H2 = [ 0.22, 0.23, 0.16, 0.13, 0.11, 0.08, 0.05, 0.02]\n",
    "\n",
    "n = len(H1)\n",
    "print(n)"
   ]
  },
  {
   "cell_type": "code",
   "execution_count": 11,
   "id": "06cc5084",
   "metadata": {},
   "outputs": [
    {
     "name": "stdout",
     "output_type": "stream",
     "text": [
      "Bhattacharya Distance is  0.014830056106628874\n"
     ]
    }
   ],
   "source": [
    "# Calculating Bhattacharya Coefficient, Distance\n",
    "\n",
    "B_coeff = 0\n",
    "\n",
    "for i in range(0, n):\n",
    "    x = math.sqrt(H1[i]*H2[i])\n",
    "    B_coeff += x\n",
    "    \n",
    "B_dist = math.log(B_coeff)*(-1)\n",
    "print('Bhattacharya Distance is ', B_dist)"
   ]
  },
  {
   "cell_type": "code",
   "execution_count": 12,
   "id": "06e22ca3",
   "metadata": {},
   "outputs": [
    {
     "name": "stdout",
     "output_type": "stream",
     "text": [
      "KL Distance is  0.09075297258487514\n"
     ]
    }
   ],
   "source": [
    "# Calculating KL distance\n",
    "\n",
    "kl_dist = 0\n",
    "for i in  range(0, n):\n",
    "    kl_dist += H1[i] * math.log2(H1[i]/H2[i])\n",
    "    \n",
    "print('KL Distance is ', kl_dist)"
   ]
  }
 ],
 "metadata": {
  "kernelspec": {
   "display_name": "Python 3 (ipykernel)",
   "language": "python",
   "name": "python3"
  },
  "language_info": {
   "codemirror_mode": {
    "name": "ipython",
    "version": 3
   },
   "file_extension": ".py",
   "mimetype": "text/x-python",
   "name": "python",
   "nbconvert_exporter": "python",
   "pygments_lexer": "ipython3",
   "version": "3.9.12"
  }
 },
 "nbformat": 4,
 "nbformat_minor": 5
}
